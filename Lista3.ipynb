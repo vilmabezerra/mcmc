{
 "cells": [
  {
   "cell_type": "markdown",
   "metadata": {},
   "source": [
    "# Lista 3 - Algoritmo de Monte Carlo e Cadeia de Markov\n",
    "\n",
    "## Vilma Bezerra Alves - 30 de Junho de 2020"
   ]
  },
  {
   "cell_type": "code",
   "execution_count": 79,
   "metadata": {},
   "outputs": [],
   "source": [
    "import numpy as np\n",
    "import math\n",
    "import pylab\n",
    "\n",
    "from matplotlib import pyplot as plt"
   ]
  },
  {
   "cell_type": "markdown",
   "metadata": {},
   "source": [
    "### Questão 1\n",
    "#### 1. \n",
    "Seja X~U(0,1). Vamos considerar a indicadora $I$ para $P[x^2 \\leq 1/2]$. \n",
    "\n",
    "Portanto, \n",
    "$$E[I(x^2 \\leq 1/2)] = 0 \\cdot P[x^2 \\geq 1/2] + 1 \\cdot P[x^2 \\leq 1/2]$$\n",
    "$$E[I(x^2 \\leq 1/2)] = P \\bigg[x^2 \\leq \\frac{1}{2} \\bigg]$$\n",
    "$$E[I(x^2 \\leq 1/2)] = P \\bigg[x \\leq \\frac{1}{\\sqrt{2}}\\bigg]$$\n",
    "$$E[I(x^2 \\leq 1/2)] = P \\bigg[x \\leq \\frac{\\sqrt{2}}{2}\\bigg]$$\n",
    "\n",
    "Dado que $x$ é uniforme,\n",
    "$$E[I(x^2 \\leq 1/2)] = \\frac{\\sqrt{2}}{2}$$\n",
    "\n",
    "#### 2.\n",
    "Sabendo que a indicadora segue distribuição de Bernoulli, temos:\n",
    "$$Var[x] = p(1 - p)$$\n",
    "$$Var[x] = P[x^2 \\leq 1/2](1 - P[x^2 \\leq 1/2])$$\n",
    "$$Var[x] = P[x^2 \\leq 1/2] - (P[x^2 \\leq 1/2])^2$$\n",
    "$$Var[x] = \\frac{\\sqrt{2}}{2} - \\bigg(\\frac{\\sqrt{2}}{2}\\bigg)^2$$\n",
    "$$Var[x] = \\frac{\\sqrt{2} - 1}{2}$$\n",
    "\n",
    "#### 3.\n",
    "Pela lei dos grandes números sabemos que a $M_n$ converge para o $E[x]$. Com isso, temos\n",
    "$$M_n = \\frac{\\sqrt{2}}{2}$$\n",
    "$$\\sqrt{2} = 2M_n$$\n",
    "\n",
    "Para isso, vamos estimar o valor de M_n usando o método de Monte Carlo, como mostrado no código abaixo"
   ]
  },
  {
   "cell_type": "code",
   "execution_count": 76,
   "metadata": {},
   "outputs": [
    {
     "data": {
      "text/plain": [
       "0.707351"
      ]
     },
     "execution_count": 76,
     "metadata": {},
     "output_type": "execute_result"
    }
   ],
   "source": [
    "def generate_sample_monte_carlo(number_samples):\n",
    "    indicator_function = np.random.rand(number_samples)**2 <= .5\n",
    "    return indicator_function\n",
    "\n",
    "\n",
    "def calculate_mn(samples, number_samples):\n",
    "    x_axis = np.arange(1, number_samples+1)\n",
    "    return np.cumsum(samples) / x_axis\n",
    "\n",
    "\n",
    "number_samples = int(1e6)\n",
    "samples = generate_sample_monte_carlo(number_samples)\n",
    "m_n = calculate_mn(samples, number_samples)\n",
    "m_n[-1]"
   ]
  },
  {
   "cell_type": "code",
   "execution_count": 77,
   "metadata": {},
   "outputs": [
    {
     "data": {
      "text/plain": [
       "1.414702"
      ]
     },
     "execution_count": 77,
     "metadata": {},
     "output_type": "execute_result"
    }
   ],
   "source": [
    "def calculate_sqrt2_estimative(m_n):\n",
    "    return 2*m_n\n",
    "sqrt_2 = calculate_sqrt2_estimative(m_n)\n",
    "sqrt_2[-1]"
   ]
  },
  {
   "cell_type": "markdown",
   "metadata": {},
   "source": [
    "Com isso, temos que o valor estimado para é aproximadamente $\\sqrt{2} = 2 \\cdot 0.707$, o que é aproximadamente $1.415$\n",
    "\n",
    "#### 4.\n",
    "Agora sendo $ê_n$ o erro relativo para $n = 1, ..., 10^6$ levando em consideração o valor real de $\\sqrt{2}$, temos o seguinte gráfico"
   ]
  },
  {
   "cell_type": "code",
   "execution_count": 78,
   "metadata": {},
   "outputs": [
    {
     "data": {
      "image/png": "[encoded data removed]",
      "text/plain": [
       "<Figure size 432x288 with 1 Axes>"
      ]
     },
     "metadata": {
      "needs_background": "light"
     },
     "output_type": "display_data"
    }
   ],
   "source": [
    "def calculate_error(m_n):\n",
    "    return np.abs(m_n - math.sqrt(2)) / math.sqrt(2)\n",
    "\n",
    "errors = calculate_error(calculate_sqrt2_estimative(calculate_mn(samples, number_samples)))\n",
    "fig = plt.figure()\n",
    "ax = fig.add_subplot(2, 1, 1)\n",
    "\n",
    "line, = ax.plot(errors, color='blue', lw=2)\n",
    "\n",
    "ax.set_yscale('log')\n",
    "ax.set_xscale('log')\n",
    "\n",
    "pylab.show()"
   ]
  },
  {
   "cell_type": "markdown",
   "metadata": {},
   "source": [
    "Com isso, podemos perceber que o erro diminui a medida que aumentamos a quantidade de amostras."
   ]
  },
  {
   "cell_type": "markdown",
   "metadata": {},
   "source": [
    "## Se X é discreto:\n",
    "\n",
    "$E[X] = \\sum_{i=a}^b P(X=i)i$\n",
    "\n",
    "## Se X é contínuo:\n",
    "\n",
    "$E[X] = \\int_a^b f(x)x dx$"
   ]
  },
  {
   "cell_type": "code",
   "execution_count": null,
   "metadata": {},
   "outputs": [],
   "source": []
  }
 ],
 "metadata": {
  "kernelspec": {
   "display_name": "Python 3",
   "language": "python",
   "name": "python3"
  },
  "language_info": {
   "codemirror_mode": {
    "name": "ipython",
    "version": 3
   },
   "file_extension": ".py",
   "mimetype": "text/x-python",
   "name": "python",
   "nbconvert_exporter": "python",
   "pygments_lexer": "ipython3",
   "version": "3.7.6"
  }
 },
 "nbformat": 4,
 "nbformat_minor": 4
}
